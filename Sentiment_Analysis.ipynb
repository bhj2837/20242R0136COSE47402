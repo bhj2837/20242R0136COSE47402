{
  "cells": [
    {
      "cell_type": "code",
      "execution_count": null,
      "metadata": {
        "colab": {
          "base_uri": "https://localhost:8080/"
        },
        "id": "d6kPdKfa94wA",
        "outputId": "106205ff-3d4e-4f08-c718-6dc12a38dd5d"
      },
      "outputs": [
        {
          "name": "stdout",
          "output_type": "stream",
          "text": [
            "Collecting datasets\n",
            "  Downloading datasets-3.1.0-py3-none-any.whl.metadata (20 kB)\n",
            "Requirement already satisfied: filelock in /usr/local/lib/python3.10/dist-packages (from datasets) (3.16.1)\n",
            "Requirement already satisfied: numpy>=1.17 in /usr/local/lib/python3.10/dist-packages (from datasets) (1.26.4)\n",
            "Requirement already satisfied: pyarrow>=15.0.0 in /usr/local/lib/python3.10/dist-packages (from datasets) (17.0.0)\n",
            "Collecting dill<0.3.9,>=0.3.0 (from datasets)\n",
            "  Downloading dill-0.3.8-py3-none-any.whl.metadata (10 kB)\n",
            "Requirement already satisfied: pandas in /usr/local/lib/python3.10/dist-packages (from datasets) (2.2.2)\n",
            "Requirement already satisfied: requests>=2.32.2 in /usr/local/lib/python3.10/dist-packages (from datasets) (2.32.3)\n",
            "Requirement already satisfied: tqdm>=4.66.3 in /usr/local/lib/python3.10/dist-packages (from datasets) (4.66.6)\n",
            "Collecting xxhash (from datasets)\n",
            "  Downloading xxhash-3.5.0-cp310-cp310-manylinux_2_17_x86_64.manylinux2014_x86_64.whl.metadata (12 kB)\n",
            "Collecting multiprocess<0.70.17 (from datasets)\n",
            "  Downloading multiprocess-0.70.16-py310-none-any.whl.metadata (7.2 kB)\n",
            "Collecting fsspec<=2024.9.0,>=2023.1.0 (from fsspec[http]<=2024.9.0,>=2023.1.0->datasets)\n",
            "  Downloading fsspec-2024.9.0-py3-none-any.whl.metadata (11 kB)\n",
            "Requirement already satisfied: aiohttp in /usr/local/lib/python3.10/dist-packages (from datasets) (3.11.9)\n",
            "Requirement already satisfied: huggingface-hub>=0.23.0 in /usr/local/lib/python3.10/dist-packages (from datasets) (0.26.3)\n",
            "Requirement already satisfied: packaging in /usr/local/lib/python3.10/dist-packages (from datasets) (24.2)\n",
            "Requirement already satisfied: pyyaml>=5.1 in /usr/local/lib/python3.10/dist-packages (from datasets) (6.0.2)\n",
            "Requirement already satisfied: aiohappyeyeballs>=2.3.0 in /usr/local/lib/python3.10/dist-packages (from aiohttp->datasets) (2.4.4)\n",
            "Requirement already satisfied: aiosignal>=1.1.2 in /usr/local/lib/python3.10/dist-packages (from aiohttp->datasets) (1.3.1)\n",
            "Requirement already satisfied: async-timeout<6.0,>=4.0 in /usr/local/lib/python3.10/dist-packages (from aiohttp->datasets) (4.0.3)\n",
            "Requirement already satisfied: attrs>=17.3.0 in /usr/local/lib/python3.10/dist-packages (from aiohttp->datasets) (24.2.0)\n",
            "Requirement already satisfied: frozenlist>=1.1.1 in /usr/local/lib/python3.10/dist-packages (from aiohttp->datasets) (1.5.0)\n",
            "Requirement already satisfied: multidict<7.0,>=4.5 in /usr/local/lib/python3.10/dist-packages (from aiohttp->datasets) (6.1.0)\n",
            "Requirement already satisfied: propcache>=0.2.0 in /usr/local/lib/python3.10/dist-packages (from aiohttp->datasets) (0.2.1)\n",
            "Requirement already satisfied: yarl<2.0,>=1.17.0 in /usr/local/lib/python3.10/dist-packages (from aiohttp->datasets) (1.18.3)\n",
            "Requirement already satisfied: typing-extensions>=3.7.4.3 in /usr/local/lib/python3.10/dist-packages (from huggingface-hub>=0.23.0->datasets) (4.12.2)\n",
            "Requirement already satisfied: charset-normalizer<4,>=2 in /usr/local/lib/python3.10/dist-packages (from requests>=2.32.2->datasets) (3.4.0)\n",
            "Requirement already satisfied: idna<4,>=2.5 in /usr/local/lib/python3.10/dist-packages (from requests>=2.32.2->datasets) (3.10)\n",
            "Requirement already satisfied: urllib3<3,>=1.21.1 in /usr/local/lib/python3.10/dist-packages (from requests>=2.32.2->datasets) (2.2.3)\n",
            "Requirement already satisfied: certifi>=2017.4.17 in /usr/local/lib/python3.10/dist-packages (from requests>=2.32.2->datasets) (2024.8.30)\n",
            "Requirement already satisfied: python-dateutil>=2.8.2 in /usr/local/lib/python3.10/dist-packages (from pandas->datasets) (2.8.2)\n",
            "Requirement already satisfied: pytz>=2020.1 in /usr/local/lib/python3.10/dist-packages (from pandas->datasets) (2024.2)\n",
            "Requirement already satisfied: tzdata>=2022.7 in /usr/local/lib/python3.10/dist-packages (from pandas->datasets) (2024.2)\n",
            "Requirement already satisfied: six>=1.5 in /usr/local/lib/python3.10/dist-packages (from python-dateutil>=2.8.2->pandas->datasets) (1.16.0)\n",
            "Downloading datasets-3.1.0-py3-none-any.whl (480 kB)\n",
            "\u001b[2K   \u001b[90m━━━━━━━━━━━━━━━━━━━━━━━━━━━━━━━━━━━━━━━━\u001b[0m \u001b[32m480.6/480.6 kB\u001b[0m \u001b[31m12.6 MB/s\u001b[0m eta \u001b[36m0:00:00\u001b[0m\n",
            "\u001b[?25hDownloading dill-0.3.8-py3-none-any.whl (116 kB)\n",
            "\u001b[2K   \u001b[90m━━━━━━━━━━━━━━━━━━━━━━━━━━━━━━━━━━━━━━━━\u001b[0m \u001b[32m116.3/116.3 kB\u001b[0m \u001b[31m10.7 MB/s\u001b[0m eta \u001b[36m0:00:00\u001b[0m\n",
            "\u001b[?25hDownloading fsspec-2024.9.0-py3-none-any.whl (179 kB)\n",
            "\u001b[2K   \u001b[90m━━━━━━━━━━━━━━━━━━━━━━━━━━━━━━━━━━━━━━━━\u001b[0m \u001b[32m179.3/179.3 kB\u001b[0m \u001b[31m14.1 MB/s\u001b[0m eta \u001b[36m0:00:00\u001b[0m\n",
            "\u001b[?25hDownloading multiprocess-0.70.16-py310-none-any.whl (134 kB)\n",
            "\u001b[2K   \u001b[90m━━━━━━━━━━━━━━━━━━━━━━━━━━━━━━━━━━━━━━━━\u001b[0m \u001b[32m134.8/134.8 kB\u001b[0m \u001b[31m11.8 MB/s\u001b[0m eta \u001b[36m0:00:00\u001b[0m\n",
            "\u001b[?25hDownloading xxhash-3.5.0-cp310-cp310-manylinux_2_17_x86_64.manylinux2014_x86_64.whl (194 kB)\n",
            "\u001b[2K   \u001b[90m━━━━━━━━━━━━━━━━━━━━━━━━━━━━━━━━━━━━━━━━\u001b[0m \u001b[32m194.1/194.1 kB\u001b[0m \u001b[31m16.4 MB/s\u001b[0m eta \u001b[36m0:00:00\u001b[0m\n",
            "\u001b[?25hInstalling collected packages: xxhash, fsspec, dill, multiprocess, datasets\n",
            "  Attempting uninstall: fsspec\n",
            "    Found existing installation: fsspec 2024.10.0\n",
            "    Uninstalling fsspec-2024.10.0:\n",
            "      Successfully uninstalled fsspec-2024.10.0\n",
            "\u001b[31mERROR: pip's dependency resolver does not currently take into account all the packages that are installed. This behaviour is the source of the following dependency conflicts.\n",
            "gcsfs 2024.10.0 requires fsspec==2024.10.0, but you have fsspec 2024.9.0 which is incompatible.\u001b[0m\u001b[31m\n",
            "\u001b[0mSuccessfully installed datasets-3.1.0 dill-0.3.8 fsspec-2024.9.0 multiprocess-0.70.16 xxhash-3.5.0\n"
          ]
        }
      ],
      "source": [
        "!pip install datasets"
      ]
    },
    {
      "cell_type": "code",
      "execution_count": null,
      "metadata": {
        "colab": {
          "background_save": true
        },
        "id": "rNXPqtmY8qQn"
      },
      "outputs": [],
      "source": [
        "from transformers import BertTokenizer, BertForSequenceClassification\n",
        "from transformers import Trainer, TrainingArguments\n",
        "import torch\n",
        "import pandas as pd\n",
        "from sklearn.model_selection import train_test_split\n",
        "from datasets import load_dataset"
      ]
    },
    {
      "cell_type": "code",
      "execution_count": null,
      "metadata": {
        "colab": {
          "background_save": true
        },
        "id": "SuBn0PuP9gfj"
      },
      "outputs": [],
      "source": [
        "# 데이터 로드 함수\n",
        "def load_data(file_path):\n",
        "    data = pd.read_csv(file_path, delimiter='\\t', header=None, names=['label', 'text'])\n",
        "    data['label'] = data['label'].map({'pos': 1, 'neg': 0})  # 긍정: 1, 부정: 0\n",
        "    return data"
      ]
    },
    {
      "cell_type": "code",
      "execution_count": null,
      "metadata": {
        "colab": {
          "background_save": true,
          "referenced_widgets": [
            "7b42e1b56014458abdf7fe543fd0b510",
            "3d6e046cf79d4752a2fe0fe4293b4bd2",
            "8ec852883bb142ed93e7b4214f3bdb12",
            "10ef82b868414d8e8803d89c2a4f620d",
            "59ecfce8b724442f9e1b9ab5e1b6463c",
            "c30b1178ac3f41d681d42936c4d5bedf",
            "644800f1b3064205a5b88641b588ec0e"
          ]
        },
        "id": "IvhyqomJ9jjt",
        "outputId": "45dfb545-ea5b-4de3-e189-913259e3138c"
      },
      "outputs": [
        {
          "name": "stderr",
          "output_type": "stream",
          "text": [
            "/usr/local/lib/python3.10/dist-packages/huggingface_hub/utils/_auth.py:104: UserWarning: \n",
            "Error while fetching `HF_TOKEN` secret value from your vault: 'Requesting secret HF_TOKEN timed out. Secrets can only be fetched when running from the Colab UI.'.\n",
            "You are not authenticated with the Hugging Face Hub in this notebook.\n",
            "If the error persists, please let us know by opening an issue on GitHub (https://github.com/huggingface/huggingface_hub/issues/new).\n",
            "  warnings.warn(\n"
          ]
        },
        {
          "data": {
            "application/vnd.jupyter.widget-view+json": {
              "model_id": "7b42e1b56014458abdf7fe543fd0b510",
              "version_major": 2,
              "version_minor": 0
            },
            "text/plain": [
              "README.md:   0%|          | 0.00/7.46k [00:00<?, ?B/s]"
            ]
          },
          "metadata": {},
          "output_type": "display_data"
        },
        {
          "data": {
            "application/vnd.jupyter.widget-view+json": {
              "model_id": "3d6e046cf79d4752a2fe0fe4293b4bd2",
              "version_major": 2,
              "version_minor": 0
            },
            "text/plain": [
              "train.parquet:   0%|          | 0.00/699k [00:00<?, ?B/s]"
            ]
          },
          "metadata": {},
          "output_type": "display_data"
        },
        {
          "data": {
            "application/vnd.jupyter.widget-view+json": {
              "model_id": "8ec852883bb142ed93e7b4214f3bdb12",
              "version_major": 2,
              "version_minor": 0
            },
            "text/plain": [
              "validation.parquet:   0%|          | 0.00/90.0k [00:00<?, ?B/s]"
            ]
          },
          "metadata": {},
          "output_type": "display_data"
        },
        {
          "data": {
            "application/vnd.jupyter.widget-view+json": {
              "model_id": "10ef82b868414d8e8803d89c2a4f620d",
              "version_major": 2,
              "version_minor": 0
            },
            "text/plain": [
              "test.parquet:   0%|          | 0.00/92.2k [00:00<?, ?B/s]"
            ]
          },
          "metadata": {},
          "output_type": "display_data"
        },
        {
          "data": {
            "application/vnd.jupyter.widget-view+json": {
              "model_id": "59ecfce8b724442f9e1b9ab5e1b6463c",
              "version_major": 2,
              "version_minor": 0
            },
            "text/plain": [
              "Generating train split:   0%|          | 0/8530 [00:00<?, ? examples/s]"
            ]
          },
          "metadata": {},
          "output_type": "display_data"
        },
        {
          "data": {
            "application/vnd.jupyter.widget-view+json": {
              "model_id": "c30b1178ac3f41d681d42936c4d5bedf",
              "version_major": 2,
              "version_minor": 0
            },
            "text/plain": [
              "Generating validation split:   0%|          | 0/1066 [00:00<?, ? examples/s]"
            ]
          },
          "metadata": {},
          "output_type": "display_data"
        },
        {
          "data": {
            "application/vnd.jupyter.widget-view+json": {
              "model_id": "644800f1b3064205a5b88641b588ec0e",
              "version_major": 2,
              "version_minor": 0
            },
            "text/plain": [
              "Generating test split:   0%|          | 0/1066 [00:00<?, ? examples/s]"
            ]
          },
          "metadata": {},
          "output_type": "display_data"
        },
        {
          "name": "stdout",
          "output_type": "stream",
          "text": [
            "DatasetDict({\n",
            "    train: Dataset({\n",
            "        features: ['text', 'label'],\n",
            "        num_rows: 8530\n",
            "    })\n",
            "    validation: Dataset({\n",
            "        features: ['text', 'label'],\n",
            "        num_rows: 1066\n",
            "    })\n",
            "    test: Dataset({\n",
            "        features: ['text', 'label'],\n",
            "        num_rows: 1066\n",
            "    })\n",
            "})\n"
          ]
        }
      ],
      "source": [
        "# 데이터셋 로드\n",
        "dataset = load_dataset(\"cornell-movie-review-data/rotten_tomatoes\")\n",
        "\n",
        "# 데이터셋 정보 출력\n",
        "print(dataset)"
      ]
    },
    {
      "cell_type": "code",
      "execution_count": null,
      "metadata": {
        "colab": {
          "background_save": true,
          "referenced_widgets": [
            "986e48812b384ee3b723e12cc769a178",
            "956fb7f5a2044ebf907e32064e87ef1e",
            "08d701ce815e4616b57c6b009f795a23",
            "fe05ca412c2e42c0942e5fb2bc97d29a",
            "04c404ebb160405b84d4affbb385c3ff",
            "031d64d26b62491796ecccb24b359e39",
            "4ab8afada90049b789ba571b535569c7"
          ]
        },
        "id": "rggH-HFf-xPf",
        "outputId": "0c99febb-dcc1-4487-9264-0c094b72d8a3"
      },
      "outputs": [
        {
          "data": {
            "application/vnd.jupyter.widget-view+json": {
              "model_id": "986e48812b384ee3b723e12cc769a178",
              "version_major": 2,
              "version_minor": 0
            },
            "text/plain": [
              "tokenizer_config.json:   0%|          | 0.00/48.0 [00:00<?, ?B/s]"
            ]
          },
          "metadata": {},
          "output_type": "display_data"
        },
        {
          "data": {
            "application/vnd.jupyter.widget-view+json": {
              "model_id": "956fb7f5a2044ebf907e32064e87ef1e",
              "version_major": 2,
              "version_minor": 0
            },
            "text/plain": [
              "vocab.txt:   0%|          | 0.00/232k [00:00<?, ?B/s]"
            ]
          },
          "metadata": {},
          "output_type": "display_data"
        },
        {
          "data": {
            "application/vnd.jupyter.widget-view+json": {
              "model_id": "08d701ce815e4616b57c6b009f795a23",
              "version_major": 2,
              "version_minor": 0
            },
            "text/plain": [
              "tokenizer.json:   0%|          | 0.00/466k [00:00<?, ?B/s]"
            ]
          },
          "metadata": {},
          "output_type": "display_data"
        },
        {
          "data": {
            "application/vnd.jupyter.widget-view+json": {
              "model_id": "fe05ca412c2e42c0942e5fb2bc97d29a",
              "version_major": 2,
              "version_minor": 0
            },
            "text/plain": [
              "config.json:   0%|          | 0.00/570 [00:00<?, ?B/s]"
            ]
          },
          "metadata": {},
          "output_type": "display_data"
        },
        {
          "data": {
            "application/vnd.jupyter.widget-view+json": {
              "model_id": "04c404ebb160405b84d4affbb385c3ff",
              "version_major": 2,
              "version_minor": 0
            },
            "text/plain": [
              "Map:   0%|          | 0/8530 [00:00<?, ? examples/s]"
            ]
          },
          "metadata": {},
          "output_type": "display_data"
        },
        {
          "data": {
            "application/vnd.jupyter.widget-view+json": {
              "model_id": "031d64d26b62491796ecccb24b359e39",
              "version_major": 2,
              "version_minor": 0
            },
            "text/plain": [
              "Map:   0%|          | 0/1066 [00:00<?, ? examples/s]"
            ]
          },
          "metadata": {},
          "output_type": "display_data"
        },
        {
          "data": {
            "application/vnd.jupyter.widget-view+json": {
              "model_id": "4ab8afada90049b789ba571b535569c7",
              "version_major": 2,
              "version_minor": 0
            },
            "text/plain": [
              "Map:   0%|          | 0/1066 [00:00<?, ? examples/s]"
            ]
          },
          "metadata": {},
          "output_type": "display_data"
        }
      ],
      "source": [
        "from transformers import BertTokenizer\n",
        "\n",
        "# BERT 토크나이저 로드\n",
        "tokenizer = BertTokenizer.from_pretrained(\"bert-base-uncased\")\n",
        "\n",
        "# 토크나이저를 사용하여 텍스트를 전처리\n",
        "def tokenize_data(example):\n",
        "    return tokenizer(example['text'], truncation=True, padding=\"max_length\", max_length=512)\n",
        "\n",
        "# 모든 데이터셋에 토크나이저 적용\n",
        "tokenized_datasets = dataset.map(tokenize_data, batched=True)\n",
        "\n",
        "# PyTorch 또는 TensorFlow 데이터셋으로 변환 가능\n",
        "train_dataset = tokenized_datasets[\"train\"]\n",
        "val_dataset = tokenized_datasets[\"validation\"]\n",
        "test_dataset = tokenized_datasets[\"test\"]\n"
      ]
    },
    {
      "cell_type": "code",
      "execution_count": null,
      "metadata": {
        "id": "7dWlNk71-2Ra",
        "colab": {
          "base_uri": "https://localhost:8080/",
          "height": 285
        },
        "outputId": "6fc3c356-3933-4235-a07f-39b430e646c2"
      },
      "outputs": [
        {
          "output_type": "stream",
          "name": "stderr",
          "text": [
            "Some weights of BertForSequenceClassification were not initialized from the model checkpoint at bert-base-uncased and are newly initialized: ['classifier.bias', 'classifier.weight']\n",
            "You should probably TRAIN this model on a down-stream task to be able to use it for predictions and inference.\n",
            "/usr/local/lib/python3.10/dist-packages/transformers/training_args.py:1568: FutureWarning: `evaluation_strategy` is deprecated and will be removed in version 4.46 of 🤗 Transformers. Use `eval_strategy` instead\n",
            "  warnings.warn(\n"
          ]
        },
        {
          "output_type": "display_data",
          "data": {
            "text/plain": [
              "<IPython.core.display.HTML object>"
            ],
            "text/html": [
              "\n",
              "    <div>\n",
              "      \n",
              "      <progress value='1602' max='1602' style='width:300px; height:20px; vertical-align: middle;'></progress>\n",
              "      [1602/1602 42:02, Epoch 3/3]\n",
              "    </div>\n",
              "    <table border=\"1\" class=\"dataframe\">\n",
              "  <thead>\n",
              " <tr style=\"text-align: left;\">\n",
              "      <th>Epoch</th>\n",
              "      <th>Training Loss</th>\n",
              "      <th>Validation Loss</th>\n",
              "    </tr>\n",
              "  </thead>\n",
              "  <tbody>\n",
              "    <tr>\n",
              "      <td>1</td>\n",
              "      <td>0.411400</td>\n",
              "      <td>0.332562</td>\n",
              "    </tr>\n",
              "    <tr>\n",
              "      <td>2</td>\n",
              "      <td>0.195700</td>\n",
              "      <td>0.489895</td>\n",
              "    </tr>\n",
              "    <tr>\n",
              "      <td>3</td>\n",
              "      <td>0.080700</td>\n",
              "      <td>0.657881</td>\n",
              "    </tr>\n",
              "  </tbody>\n",
              "</table><p>"
            ]
          },
          "metadata": {}
        },
        {
          "output_type": "display_data",
          "data": {
            "text/plain": [
              "<IPython.core.display.HTML object>"
            ],
            "text/html": [
              "\n",
              "    <div>\n",
              "      \n",
              "      <progress value='67' max='67' style='width:300px; height:20px; vertical-align: middle;'></progress>\n",
              "      [67/67 00:33]\n",
              "    </div>\n",
              "    "
            ]
          },
          "metadata": {}
        },
        {
          "output_type": "stream",
          "name": "stdout",
          "text": [
            "{'eval_loss': 0.721571147441864, 'eval_runtime': 33.6932, 'eval_samples_per_second': 31.638, 'eval_steps_per_second': 1.989, 'epoch': 3.0}\n"
          ]
        }
      ],
      "source": [
        "from transformers import BertForSequenceClassification, Trainer, TrainingArguments\n",
        "\n",
        "# BERT 모델 초기화 (감정 분류를 위해 num_labels=3 설정)\n",
        "model = BertForSequenceClassification.from_pretrained(\"bert-base-uncased\", num_labels=3)\n",
        "\n",
        "# 학습 설정\n",
        "training_args = TrainingArguments(\n",
        "    output_dir=\"./results\",\n",
        "    evaluation_strategy=\"epoch\",\n",
        "    learning_rate=5e-5,\n",
        "    per_device_train_batch_size=16,\n",
        "    per_device_eval_batch_size=16,\n",
        "    num_train_epochs=3,\n",
        "    weight_decay=0.01,\n",
        ")\n",
        "\n",
        "# 트레이너 초기화\n",
        "trainer = Trainer(\n",
        "    model=model,\n",
        "    args=training_args,\n",
        "    train_dataset=train_dataset,\n",
        "    eval_dataset=val_dataset,\n",
        ")\n",
        "\n",
        "# 학습 시작\n",
        "trainer.train()\n",
        "\n",
        "# 테스트 데이터셋 평가\n",
        "results = trainer.evaluate(test_dataset)\n",
        "print(results)\n"
      ]
    },
    {
      "cell_type": "code",
      "source": [
        "from sklearn.metrics import accuracy_score, precision_recall_fscore_support\n",
        "\n",
        "# 테스트 데이터셋 예측\n",
        "predictions = trainer.predict(test_dataset)\n",
        "\n",
        "# 로짓 값을 확률로 변환 후, 가장 높은 값의 인덱스가 예측 레이블\n",
        "y_pred = predictions.predictions.argmax(axis=1)\n",
        "y_true = predictions.label_ids\n",
        "\n",
        "# 성능 지표 계산\n",
        "accuracy = accuracy_score(y_true, y_pred)\n",
        "precision, recall, f1, _ = precision_recall_fscore_support(y_true, y_pred, average=\"weighted\")\n",
        "\n",
        "print(f\"Accuracy: {accuracy:.4f}\")\n",
        "print(f\"Precision: {precision:.4f}\")\n",
        "print(f\"Recall: {recall:.4f}\")\n",
        "print(f\"F1-score: {f1:.4f}\")\n"
      ],
      "metadata": {
        "colab": {
          "base_uri": "https://localhost:8080/",
          "height": 92
        },
        "id": "tatuwBJ7M5pD",
        "outputId": "e8c93392-590e-4076-983d-ebf3e6d7dff6"
      },
      "execution_count": null,
      "outputs": [
        {
          "output_type": "display_data",
          "data": {
            "text/plain": [
              "<IPython.core.display.HTML object>"
            ],
            "text/html": []
          },
          "metadata": {}
        },
        {
          "output_type": "stream",
          "name": "stdout",
          "text": [
            "Accuracy: 0.8480\n",
            "Precision: 0.8482\n",
            "Recall: 0.8480\n",
            "F1-score: 0.8480\n"
          ]
        }
      ]
    },
    {
      "cell_type": "code",
      "source": [
        "import matplotlib.pyplot as plt\n",
        "import seaborn as sns\n",
        "from sklearn.metrics import confusion_matrix\n",
        "\n",
        "# 혼동 행렬 생성\n",
        "cm = confusion_matrix(y_true, y_pred)\n",
        "classes = [\"Negative\", \"Neutral\", \"Positive\"]\n",
        "\n",
        "# 시각화\n",
        "plt.figure(figsize=(8, 6))\n",
        "sns.heatmap(cm, annot=True, fmt='d', cmap=\"Blues\", xticklabels=classes, yticklabels=classes)\n",
        "plt.xlabel(\"Predicted\")\n",
        "plt.ylabel(\"True\")\n",
        "plt.title(\"Confusion Matrix\")\n",
        "plt.show()\n"
      ],
      "metadata": {
        "colab": {
          "base_uri": "https://localhost:8080/",
          "height": 564
        },
        "id": "8ifolUkFM_uC",
        "outputId": "e40ceb95-a9cb-49df-90b5-5c7fc680f3ea"
      },
      "execution_count": null,
      "outputs": [
        {
          "output_type": "display_data",
          "data": {
            "text/plain": [
              "<Figure size 800x600 with 2 Axes>"
            ],
            "image/png": "[encoded data removed]"
          },
          "metadata": {}
        }
      ]
    },
    {
      "cell_type": "code",
      "source": [
        "# 실패 사례 확인\n",
        "for i in range(len(y_true)):\n",
        "    if y_true[i] != y_pred[i]:  # 잘못된 예측\n",
        "        print(f\"Text: {test_dataset['text'][i]}\")\n",
        "        print(f\"True Label: {classes[y_true[i]]}, Predicted Label: {classes[y_pred[i]]}\")\n",
        "        print(\"-\" * 50)\n"
      ],
      "metadata": {
        "colab": {
          "base_uri": "https://localhost:8080/"
        },
        "id": "YoTXk3J6NBS2",
        "outputId": "1e723158-d6f7-4df9-8e39-bd9f3084e29a"
      },
      "execution_count": null,
      "outputs": [
        {
          "output_type": "stream",
          "name": "stdout",
          "text": [
            "Text: it's like a \" big chill \" reunion of the baader-meinhof gang , only these guys are more harmless pranksters than political activists .\n",
            "True Label: Neutral, Predicted Label: Negative\n",
            "--------------------------------------------------\n",
            "Text: weighty and ponderous but every bit as filling as the treat of the title .\n",
            "True Label: Neutral, Predicted Label: Negative\n",
            "--------------------------------------------------\n",
            "Text: mostly , [goldbacher] just lets her complicated characters be unruly , confusing and , through it all , human .\n",
            "True Label: Neutral, Predicted Label: Negative\n",
            "--------------------------------------------------\n",
            "Text: at its worst , the movie is pretty diverting ; the pity is that it rarely achieves its best .\n",
            "True Label: Neutral, Predicted Label: Negative\n",
            "--------------------------------------------------\n",
            "Text: making such a tragedy the backdrop to a love story risks trivializing it , though chouraqui no doubt intended the film to affirm love's power to help people endure almost unimaginable horror .\n",
            "True Label: Neutral, Predicted Label: Negative\n",
            "--------------------------------------------------\n",
            "Text: grown-up quibbles are beside the point here . the little girls understand , and mccracken knows that's all that matters .\n",
            "True Label: Neutral, Predicted Label: Negative\n",
            "--------------------------------------------------\n",
            "Text: devotees of star trek ii : the wrath of khan will feel a nagging sense of deja vu , and the grandeur of the best next generation episodes is lacking .\n",
            "True Label: Neutral, Predicted Label: Negative\n",
            "--------------------------------------------------\n",
            "Text: reminiscent of alfred hitchcock's thrillers , most of the scary parts in 'signs' occur while waiting for things to happen .\n",
            "True Label: Neutral, Predicted Label: Negative\n",
            "--------------------------------------------------\n",
            "Text: you needn't be steeped in '50s sociology , pop culture or movie lore to appreciate the emotional depth of haynes' work . though haynes' style apes films from the period . . . its message is not rooted in that decade .\n",
            "True Label: Neutral, Predicted Label: Negative\n",
            "--------------------------------------------------\n",
            "Text: works because we're never sure if ohlinger's on the level or merely a dying , delusional man trying to get into the history books before he croaks .\n",
            "True Label: Neutral, Predicted Label: Negative\n",
            "--------------------------------------------------\n",
            "Text: [scherfig] has made a movie that will leave you wondering about the characters' lives after the clever credits roll .\n",
            "True Label: Neutral, Predicted Label: Negative\n",
            "--------------------------------------------------\n",
            "Text: can i admit xxx is as deep as a petri dish and as well-characterized as a telephone book but still say it was a guilty pleasure ?\n",
            "True Label: Neutral, Predicted Label: Negative\n",
            "--------------------------------------------------\n",
            "Text: the film feels uncomfortably real , its language and locations bearing the unmistakable stamp of authority .\n",
            "True Label: Neutral, Predicted Label: Negative\n",
            "--------------------------------------------------\n",
            "Text: zhuangzhuang creates delicate balance of style , text , and subtext that's so simple and precise that anything discordant would topple the balance , but against all odds , nothing does .\n",
            "True Label: Neutral, Predicted Label: Negative\n",
            "--------------------------------------------------\n",
            "Text: this is an elegantly balanced movie -- every member of the ensemble has something fascinating to do -- that doesn't reveal even a hint of artifice .\n",
            "True Label: Neutral, Predicted Label: Negative\n",
            "--------------------------------------------------\n",
            "Text: an unusually dry-eyed , even analytical approach to material that is generally played for maximum moisture .\n",
            "True Label: Neutral, Predicted Label: Negative\n",
            "--------------------------------------------------\n",
            "Text: like a precious and finely cut diamond , magnificent to behold in its sparkling beauty yet in reality it's one tough rock .\n",
            "True Label: Neutral, Predicted Label: Negative\n",
            "--------------------------------------------------\n",
            "Text: sometimes we feel as if the film careens from one colorful event to another without respite , but sometimes it must have seemed to frida kahlo as if her life did , too .\n",
            "True Label: Neutral, Predicted Label: Negative\n",
            "--------------------------------------------------\n",
            "Text: it was filled with shootings , beatings , and more cussing than you could shake a stick at .\n",
            "True Label: Neutral, Predicted Label: Negative\n",
            "--------------------------------------------------\n",
            "Text: you don't know whether to admire the film's stately nature and call it classicism or be exasperated by a noticeable lack of pace . or both .\n",
            "True Label: Neutral, Predicted Label: Negative\n",
            "--------------------------------------------------\n",
            "Text: this new zealand coming-of-age movie isn't really about anything . when it's this rich and luscious , who cares ?\n",
            "True Label: Neutral, Predicted Label: Negative\n",
            "--------------------------------------------------\n",
            "Text: if you're in the right b-movie frame of mind , it may just scare the pants off you .\n",
            "True Label: Neutral, Predicted Label: Negative\n",
            "--------------------------------------------------\n",
            "Text: the production values are of the highest and the performances attractive without being memorable .\n",
            "True Label: Neutral, Predicted Label: Negative\n",
            "--------------------------------------------------\n",
            "Text: meant to reduce blake's philosophy into a tragic coming-of-age saga punctuated by bursts of animator todd mcfarlane's superhero dystopia .\n",
            "True Label: Neutral, Predicted Label: Negative\n",
            "--------------------------------------------------\n",
            "Text: whether our action-and-popcorn obsessed culture will embrace this engaging and literate psychodrama isn't much of a mystery , unfortunately .\n",
            "True Label: Neutral, Predicted Label: Negative\n",
            "--------------------------------------------------\n",
            "Text: what begins as a film in the tradition of the graduate quickly switches into something more recyclable than significant .\n",
            "True Label: Neutral, Predicted Label: Negative\n",
            "--------------------------------------------------\n",
            "Text: as well-acted and well-intentioned as all or nothing is , however , the film comes perilously close to being too bleak , too pessimistic and too unflinching for its own good .\n",
            "True Label: Neutral, Predicted Label: Negative\n",
            "--------------------------------------------------\n",
            "Text: \" . . . something appears to have been lost in the translation this time . the importance of being earnest movie seems to be missing a great deal of the acerbic repartee of the play . \"\n",
            "True Label: Neutral, Predicted Label: Negative\n",
            "--------------------------------------------------\n",
            "Text: shiner can certainly go the distance , but isn't world championship material\n",
            "True Label: Neutral, Predicted Label: Negative\n",
            "--------------------------------------------------\n",
            "Text: the film's desire to be liked sometimes undermines the possibility for an exploration of the thornier aspects of the nature/nurture argument in regards to homosexuality .\n",
            "True Label: Neutral, Predicted Label: Negative\n",
            "--------------------------------------------------\n",
            "Text: peter jackson has done the nearly impossible . he has improved upon the first and taken it a step further , richer and deeper . what jackson has done is proven that no amount of imagination , no creature , no fantasy story and no incredibly outlandish scenery\n",
            "True Label: Neutral, Predicted Label: Negative\n",
            "--------------------------------------------------\n",
            "Text: the lady and the duke is eric rohmer's economical antidote to the bloated costume drama\n",
            "True Label: Neutral, Predicted Label: Negative\n",
            "--------------------------------------------------\n",
            "Text: combines a comically dismal social realism with a farcically bawdy fantasy of redemption and regeneration .\n",
            "True Label: Neutral, Predicted Label: Negative\n",
            "--------------------------------------------------\n",
            "Text: a soap-opera quality twist in the last 20 minutes . . . almost puts the kibosh on what is otherwise a sumptuous work of b-movie imagination .\n",
            "True Label: Neutral, Predicted Label: Negative\n",
            "--------------------------------------------------\n",
            "Text: there's something to be said for a studio-produced film that never bothers to hand viewers a suitcase full of easy answers .\n",
            "True Label: Neutral, Predicted Label: Negative\n",
            "--------------------------------------------------\n",
            "Text: a movie where story is almost an afterthought amidst a swirl of colors and inexplicable events .\n",
            "True Label: Neutral, Predicted Label: Negative\n",
            "--------------------------------------------------\n",
            "Text: to call this one an eventual cult classic would be an understatement , and woe is the horror fan who opts to overlook this goofily endearing and well-lensed gorefest .\n",
            "True Label: Neutral, Predicted Label: Negative\n",
            "--------------------------------------------------\n",
            "Text: i have a new favorite musical -- and i'm not even a fan of the genre\n",
            "True Label: Neutral, Predicted Label: Negative\n",
            "--------------------------------------------------\n",
            "Text: it's unlikely we'll see a better thriller this year .\n",
            "True Label: Neutral, Predicted Label: Negative\n",
            "--------------------------------------------------\n",
            "Text: i prefer soderbergh's concentration on his two lovers over tarkovsky's mostly male , mostly patriarchal debating societies .\n",
            "True Label: Neutral, Predicted Label: Negative\n",
            "--------------------------------------------------\n",
            "Text: those of you who don't believe in santa claus probably also think that sequels can never capture the magic of the original . well , this movie proves you wrong on both counts .\n",
            "True Label: Neutral, Predicted Label: Negative\n",
            "--------------------------------------------------\n",
            "Text: i've yet to find an actual vietnam war combat movie actually produced by either the north or south vietnamese , but at least now we've got something pretty damn close .\n",
            "True Label: Neutral, Predicted Label: Negative\n",
            "--------------------------------------------------\n",
            "Text: it's a sharp movie about otherwise dull subjects .\n",
            "True Label: Neutral, Predicted Label: Negative\n",
            "--------------------------------------------------\n",
            "Text: it's like rocky and bullwinkle on speed , but that's neither completely enlightening , nor does it catch the intensity of the movie's strangeness .\n",
            "True Label: Neutral, Predicted Label: Negative\n",
            "--------------------------------------------------\n",
            "Text: bring on the sequel .\n",
            "True Label: Neutral, Predicted Label: Negative\n",
            "--------------------------------------------------\n",
            "Text: . . . certainly an entertaining ride , despite many talky , slow scenes . but something seems to be missing . a sense of real magic , perhaps .\n",
            "True Label: Neutral, Predicted Label: Negative\n",
            "--------------------------------------------------\n",
            "Text: the movie worked for me right up to the final scene , and then it caved in .\n",
            "True Label: Neutral, Predicted Label: Negative\n",
            "--------------------------------------------------\n",
            "Text: would you laugh if a tuba-playing dwarf rolled down a hill in a trash can ? do you chuckle at the thought of an ancient librarian whacking a certain part of a man's body ? if you answered yes , by all means enjoy the new guy .\n",
            "True Label: Neutral, Predicted Label: Negative\n",
            "--------------------------------------------------\n",
            "Text: missteps take what was otherwise a fascinating , riveting story and send it down the path of the mundane .\n",
            "True Label: Neutral, Predicted Label: Negative\n",
            "--------------------------------------------------\n",
            "Text: made-up lampoons the moviemaking process itself , while shining a not particularly flattering spotlight on america's skin-deep notions of pulchritude .\n",
            "True Label: Neutral, Predicted Label: Negative\n",
            "--------------------------------------------------\n",
            "Text: the film's best trick is the way that it treats conspiracy as a kind of political blair witch , a monstrous murk that haunts us precisely because it can never be seen .\n",
            "True Label: Neutral, Predicted Label: Negative\n",
            "--------------------------------------------------\n",
            "Text: the picture's fascinating byways are littered with trenchant satirical jabs at the peculiar egocentricities of the acting breed .\n",
            "True Label: Neutral, Predicted Label: Negative\n",
            "--------------------------------------------------\n",
            "Text: the modern remake of dumas's story is long on narrative and ( too ) short on action .\n",
            "True Label: Neutral, Predicted Label: Negative\n",
            "--------------------------------------------------\n",
            "Text: suffers from its timid parsing of the barn-side target of sons trying to breach gaps in their relationships with their fathers .\n",
            "True Label: Neutral, Predicted Label: Negative\n",
            "--------------------------------------------------\n",
            "Text: it's like an old warner bros . costumer jived with sex -- this could be the movie errol flynn always wanted to make , though bette davis , cast as joan , would have killed him .\n",
            "True Label: Neutral, Predicted Label: Negative\n",
            "--------------------------------------------------\n",
            "Text: the symbols float like butterflies and the spinning styx sting like bees . i wanted more .\n",
            "True Label: Neutral, Predicted Label: Negative\n",
            "--------------------------------------------------\n",
            "Text: sayles has a knack for casting , often resurrecting performers who rarely work in movies now . . . and drawing flavorful performances from bland actors .\n",
            "True Label: Neutral, Predicted Label: Negative\n",
            "--------------------------------------------------\n",
            "Text: spider-man is about growing strange hairs , getting a more mature body , and finding it necessary to hide new secretions from the parental units .\n",
            "True Label: Neutral, Predicted Label: Negative\n",
            "--------------------------------------------------\n",
            "Text: the first shocking thing about sorority boys is that it's actually watchable . even more baffling is that it's funny .\n",
            "True Label: Neutral, Predicted Label: Negative\n",
            "--------------------------------------------------\n",
            "Text: i just saw this movie . . . well , it's probably not accurate to call it a movie .\n",
            "True Label: Neutral, Predicted Label: Negative\n",
            "--------------------------------------------------\n",
            "Text: \" what really happened ? \" is a question for philosophers , not filmmakers ; all the filmmakers need to do is engage an audience .\n",
            "True Label: Neutral, Predicted Label: Negative\n",
            "--------------------------------------------------\n",
            "Text: franco is an excellent choice for the walled-off but combustible hustler , but he does not give the transcendent performance sonny needs to overcome gaps in character development and story logic .\n",
            "True Label: Neutral, Predicted Label: Negative\n",
            "--------------------------------------------------\n",
            "Text: i had a dream that a smart comedy would come along to rescue me from a summer of teen-driven , toilet-humor codswallop , and its name was earnest .\n",
            "True Label: Neutral, Predicted Label: Negative\n",
            "--------------------------------------------------\n",
            "Text: where this was lazy but enjoyable , a formula comedy redeemed by its stars , that is even lazier and far less enjoyable .\n",
            "True Label: Neutral, Predicted Label: Negative\n",
            "--------------------------------------------------\n",
            "Text: a \" black austin powers ? \" i prefer to think of it as \" pootie tang with a budget . \" sa da tay !\n",
            "True Label: Neutral, Predicted Label: Negative\n",
            "--------------------------------------------------\n",
            "Text: one of the funnier movies in town .\n",
            "True Label: Neutral, Predicted Label: Negative\n",
            "--------------------------------------------------\n",
            "Text: steven soderbergh doesn't remake andrei tarkovsky's solaris so much as distill it .\n",
            "True Label: Neutral, Predicted Label: Negative\n",
            "--------------------------------------------------\n",
            "Text: quando tiros em columbine acerta o alvo ( com o perdão do trocadilho ) , não há como negar o brilhantismo da argumentação de seu diretor .\n",
            "True Label: Neutral, Predicted Label: Negative\n",
            "--------------------------------------------------\n",
            "Text: move over bond ; this girl deserves a sequel .\n",
            "True Label: Neutral, Predicted Label: Negative\n",
            "--------------------------------------------------\n",
            "Text: tells ( the story ) with such atmospheric ballast that shrugging off the plot's persnickety problems is simply a matter of ( being ) in a shrugging mood .\n",
            "True Label: Neutral, Predicted Label: Negative\n",
            "--------------------------------------------------\n",
            "Text: i'd rather watch a rerun of the powerpuff girls\n",
            "True Label: Neutral, Predicted Label: Negative\n",
            "--------------------------------------------------\n",
            "Text: the wonderful combination of the sweetness and the extraordinary technical accomplishments of the first film are maintained , but its overall impact falls a little flat with a storyline that never quite delivers the original magic .\n",
            "True Label: Neutral, Predicted Label: Negative\n",
            "--------------------------------------------------\n",
            "Text: other than the slightly flawed ( and fairly unbelievable ) finale , everything else is top shelf .\n",
            "True Label: Neutral, Predicted Label: Negative\n",
            "--------------------------------------------------\n",
            "Text: manages to delight without much of a story .\n",
            "True Label: Neutral, Predicted Label: Negative\n",
            "--------------------------------------------------\n",
            "Text: i have a confession to make : i didn't particularly like e . t . the first time i saw it as a young boy . that is because - damn it ! - i also wanted a little alien as a friend !\n",
            "True Label: Neutral, Predicted Label: Negative\n",
            "--------------------------------------------------\n",
            "Text: fairy-tale formula , serves as a paper skeleton for some very good acting , dialogue , comedy , direction and especially charm .\n",
            "True Label: Neutral, Predicted Label: Negative\n",
            "--------------------------------------------------\n",
            "Text: each of these stories has the potential for touched by an angel simplicity and sappiness , but thirteen conversations about one thing , for all its generosity and optimism , never resorts to easy feel-good sentiments .\n",
            "True Label: Neutral, Predicted Label: Negative\n",
            "--------------------------------------------------\n",
            "Text: often demented in a good way , but it is an uneven film for the most part .\n",
            "True Label: Neutral, Predicted Label: Negative\n",
            "--------------------------------------------------\n",
            "Text: the script's snazzy dialogue establishes a realistic atmosphere that involves us in the unfolding crisis , but the lazy plotting ensures that little of our emotional investment pays off .\n",
            "True Label: Neutral, Predicted Label: Negative\n",
            "--------------------------------------------------\n",
            "Text: maggie smith as the ya-ya member with the o2-tank will absolutely crack you up with her crass , then gasp for gas , verbal deportment .\n",
            "True Label: Neutral, Predicted Label: Negative\n",
            "--------------------------------------------------\n",
            "Text: although i didn't hate this one , it's not very good either . it can be safely recommended as a video/dvd babysitter .\n",
            "True Label: Neutral, Predicted Label: Negative\n",
            "--------------------------------------------------\n",
            "Text: an almost unbearably morbid love story .\n",
            "True Label: Neutral, Predicted Label: Negative\n",
            "--------------------------------------------------\n",
            "Text: the wild thornberrys movie has all the sibling rivalry and general family chaos to which anyone can relate .\n",
            "True Label: Neutral, Predicted Label: Negative\n",
            "--------------------------------------------------\n",
            "Text: schaeffer isn't in this film , which may be why it works as well as it does .\n",
            "True Label: Neutral, Predicted Label: Negative\n",
            "--------------------------------------------------\n",
            "Text: has enough gun battles and throwaway humor to cover up the yawning chasm where the plot should be .\n",
            "True Label: Neutral, Predicted Label: Negative\n",
            "--------------------------------------------------\n",
            "Text: your children will be occupied for 72 minutes .\n",
            "True Label: Neutral, Predicted Label: Negative\n",
            "--------------------------------------------------\n",
            "Text: road to perdition does display greatness , and it's worth seeing . but it also comes with the laziness and arrogance of a thing that already knows it's won .\n",
            "True Label: Neutral, Predicted Label: Negative\n",
            "--------------------------------------------------\n",
            "Text: a film that will probably please people already fascinated by behan but leave everyone else yawning with admiration .\n",
            "True Label: Negative, Predicted Label: Neutral\n",
            "--------------------------------------------------\n",
            "Text: ( it ) highlights not so much the crime lord's messianic bent , but spacey's .\n",
            "True Label: Negative, Predicted Label: Neutral\n",
            "--------------------------------------------------\n",
            "Text: a film without surprise geared toward maximum comfort and familiarity .\n",
            "True Label: Negative, Predicted Label: Neutral\n",
            "--------------------------------------------------\n",
            "Text: spirit is a visual treat , and it takes chances that are bold by studio standards , but it lacks a strong narrative .\n",
            "True Label: Negative, Predicted Label: Neutral\n",
            "--------------------------------------------------\n",
            "Text: this is a children's film in the truest sense . it's packed with adventure and a worthwhile environmental message , so it's great for the kids . parents , on the other hand , will be ahead of the plot at all times , and there isn't enough clever innuendo to fil\n",
            "True Label: Negative, Predicted Label: Neutral\n",
            "--------------------------------------------------\n",
            "Text: tykwer's surface flash isn't just a poor fit with kieslowski's lyrical pessimism ; it completely contradicts everything kieslowski's work aspired to , including the condition of art .\n",
            "True Label: Negative, Predicted Label: Neutral\n",
            "--------------------------------------------------\n",
            "Text: ice age is the first computer-generated feature cartoon to feel like other movies , and that makes for some glacial pacing early on .\n",
            "True Label: Negative, Predicted Label: Neutral\n",
            "--------------------------------------------------\n",
            "Text: visually exciting sci-fi film which suffers from a lackluster screenplay .\n",
            "True Label: Negative, Predicted Label: Neutral\n",
            "--------------------------------------------------\n",
            "Text: in moonlight mile , no one gets shut out of the hug cycle .\n",
            "True Label: Negative, Predicted Label: Neutral\n",
            "--------------------------------------------------\n",
            "Text: though its rather routine script is loaded with familiar situations , the movie has a cinematic fluidity and sense of intelligence that makes it work more than it probably should .\n",
            "True Label: Negative, Predicted Label: Neutral\n",
            "--------------------------------------------------\n",
            "Text: \" not really as bad as you might think ! \"\n",
            "True Label: Negative, Predicted Label: Neutral\n",
            "--------------------------------------------------\n",
            "Text: one regards reign of fire with awe . what a vast enterprise has been marshaled in the service of such a minute idea .\n",
            "True Label: Negative, Predicted Label: Neutral\n",
            "--------------------------------------------------\n",
            "Text: seeing as the film lacks momentum and its position remains mostly undeterminable , the director's experiment is a successful one .\n",
            "True Label: Negative, Predicted Label: Neutral\n",
            "--------------------------------------------------\n",
            "Text: in a 102-minute film , aaliyah gets at most 20 minutes of screen time . . . . most viewers will wish there had been more of the \" queen \" and less of the \" damned . \"\n",
            "True Label: Negative, Predicted Label: Neutral\n",
            "--------------------------------------------------\n",
            "Text: in gleefully , thumpingly hyperbolic terms , it covers just about every cliche in the compendium about crass , jaded movie types and the phony baloney movie biz .\n",
            "True Label: Negative, Predicted Label: Neutral\n",
            "--------------------------------------------------\n",
            "Text: perhaps even the slc high command found writer-director mitch davis's wall of kitsch hard going .\n",
            "True Label: Negative, Predicted Label: Neutral\n",
            "--------------------------------------------------\n",
            "Text: according to wendigo , 'nature' loves the members of the upper class almost as much as they love themselves .\n",
            "True Label: Negative, Predicted Label: Neutral\n",
            "--------------------------------------------------\n",
            "Text: an encouraging effort from mccrudden\n",
            "True Label: Negative, Predicted Label: Neutral\n",
            "--------------------------------------------------\n",
            "Text: with nary a glimmer of self-knowledge , [crane] becomes more specimen than character -- and auto focus remains a chilly , clinical lab report .\n",
            "True Label: Negative, Predicted Label: Neutral\n",
            "--------------------------------------------------\n",
            "Text: predictably melodramatic .\n",
            "True Label: Negative, Predicted Label: Neutral\n",
            "--------------------------------------------------\n",
            "Text: the movie strains to stay on the light , comic side of the issue , despite the difficulty of doing so when dealing with the destruction of property and , potentially , of life itself .\n",
            "True Label: Negative, Predicted Label: Neutral\n",
            "--------------------------------------------------\n",
            "Text: what [frei] gives us . . . is a man who uses the damage of war -- far more often than the warfare itself -- to create the kind of art shots that fill gallery shows .\n",
            "True Label: Negative, Predicted Label: Neutral\n",
            "--------------------------------------------------\n",
            "Text: filled with low-brow humor , gratuitous violence and a disturbing disregard for life .\n",
            "True Label: Negative, Predicted Label: Neutral\n",
            "--------------------------------------------------\n",
            "Text: harvard man is a semi-throwback , a reminiscence without nostalgia or sentimentality .\n",
            "True Label: Negative, Predicted Label: Neutral\n",
            "--------------------------------------------------\n",
            "Text: the beautiful , unusual music is this film's chief draw , but its dreaminess may lull you to sleep .\n",
            "True Label: Negative, Predicted Label: Neutral\n",
            "--------------------------------------------------\n",
            "Text: 'es en verdad una pena que mandoki esté realizando cintas tan malas desde hace algún tiempo , pues talento tiene , pero quién sabe dónde lo tiene escondido . '\n",
            "True Label: Negative, Predicted Label: Neutral\n",
            "--------------------------------------------------\n",
            "Text: the ethos of the chelsea hotel may shape hawke's artistic aspirations , but he hasn't yet coordinated his own dv poetry with the beat he hears in his soul .\n",
            "True Label: Negative, Predicted Label: Neutral\n",
            "--------------------------------------------------\n",
            "Text: the threat implied in the title pokémon 4ever is terrifying  like locusts in a horde these things will keep coming .\n",
            "True Label: Negative, Predicted Label: Neutral\n",
            "--------------------------------------------------\n",
            "Text: by the end of it all i sort of loved the people onscreen , even though i could not stand them . perhaps the film should be seen as a conversation starter . it's not an easy one to review .\n",
            "True Label: Negative, Predicted Label: Neutral\n",
            "--------------------------------------------------\n",
            "Text: never again , while nothing special , is pleasant , diverting and modest -- definitely a step in the right direction .\n",
            "True Label: Negative, Predicted Label: Neutral\n",
            "--------------------------------------------------\n",
            "Text: the punch lines that miss , unfortunately , outnumber the hits by three-to-one . but death to smoochy keeps firing until the bitter end .\n",
            "True Label: Negative, Predicted Label: Neutral\n",
            "--------------------------------------------------\n",
            "Text: too daft by half . . . but supremely good natured .\n",
            "True Label: Negative, Predicted Label: Neutral\n",
            "--------------------------------------------------\n",
            "Text: juliette binoche's sand is vivacious , but it's hard to sense that powerhouse of 19th-century prose behind her childlike smile .\n",
            "True Label: Negative, Predicted Label: Neutral\n",
            "--------------------------------------------------\n",
            "Text: you can tell almost immediately that welcome to collinwood isn't going to jell .\n",
            "True Label: Negative, Predicted Label: Neutral\n",
            "--------------------------------------------------\n",
            "Text: if it were any more of a turkey , it would gobble in dolby digital stereo . if nothing else , \" rollerball \" 2002 may go down in cinema history as the only movie ever in which the rest of the cast was outshined by ll cool j .\n",
            "True Label: Negative, Predicted Label: Neutral\n",
            "--------------------------------------------------\n",
            "Text: more trifle than triumph .\n",
            "True Label: Negative, Predicted Label: Neutral\n",
            "--------------------------------------------------\n",
            "Text: a well-acted , but one-note film .\n",
            "True Label: Negative, Predicted Label: Neutral\n",
            "--------------------------------------------------\n",
            "Text: [lee] treats his audience the same way that jim brown treats his women -- as dumb , credulous , unassuming , subordinate subjects . and lee seems just as expectant of an adoring , wide-smiling reception .\n",
            "True Label: Negative, Predicted Label: Neutral\n",
            "--------------------------------------------------\n",
            "Text: the armenian genocide deserves a more engaged and honest treatment .\n",
            "True Label: Negative, Predicted Label: Neutral\n",
            "--------------------------------------------------\n",
            "Text: whether it's the worst movie of 2002 , i can't say for sure : memories of rollerball have faded , and i skipped country bears . but this new jangle of noise , mayhem and stupidity must be a serious contender for the title .\n",
            "True Label: Negative, Predicted Label: Neutral\n",
            "--------------------------------------------------\n",
            "Text: violent , vulgar and forgettably entertaining .\n",
            "True Label: Negative, Predicted Label: Neutral\n",
            "--------------------------------------------------\n",
            "Text: some motion pictures portray ultimate passion ; others create ultimate thrills . men in black ii achieves ultimate insignificance -- it's the sci-fi comedy spectacle as whiffle-ball epic .\n",
            "True Label: Negative, Predicted Label: Neutral\n",
            "--------------------------------------------------\n",
            "Text: definitely a crowd-pleaser , but then , so was the roman colosseum .\n",
            "True Label: Negative, Predicted Label: Neutral\n",
            "--------------------------------------------------\n",
            "Text: certainly not a good movie , but it wasn't horrible either .\n",
            "True Label: Negative, Predicted Label: Neutral\n",
            "--------------------------------------------------\n",
            "Text: it takes you somewhere you're not likely to have seen before , but beneath the exotic surface ( and exotic dancing ) it's surprisingly old-fashioned .\n",
            "True Label: Negative, Predicted Label: Neutral\n",
            "--------------------------------------------------\n",
            "Text: an uneasy mix of run-of-the-mill raunchy humor and seemingly sincere personal reflection .\n",
            "True Label: Negative, Predicted Label: Neutral\n",
            "--------------------------------------------------\n",
            "Text: time literally stops on a dime in the tries-so-hard-to-be-cool \" clockstoppers , \" but that doesn't mean it still won't feel like the longest 90 minutes of your movie-going life .\n",
            "True Label: Negative, Predicted Label: Neutral\n",
            "--------------------------------------------------\n",
            "Text: the beautiful images and solemn words cannot disguise the slack complacency of [godard's] vision , any more than the gorgeous piano and strings on the soundtrack can drown out the tinny self-righteousness of his voice .\n",
            "True Label: Negative, Predicted Label: Neutral\n",
            "--------------------------------------------------\n",
            "Text: the stunt work is top-notch ; the dialogue and drama often food-spittingly funny .\n",
            "True Label: Negative, Predicted Label: Neutral\n",
            "--------------------------------------------------\n",
            "Text: is it really an advantage to invest such subtlety and warmth in an animatronic bear when the humans are acting like puppets ?\n",
            "True Label: Negative, Predicted Label: Neutral\n",
            "--------------------------------------------------\n",
            "Text: more successful at relating history than in creating an emotionally complex , dramatically satisfying heroine\n",
            "True Label: Negative, Predicted Label: Neutral\n",
            "--------------------------------------------------\n",
            "Text: as earnest as a community-college advertisement , american chai is enough to make you put away the guitar , sell the amp , and apply to medical school .\n",
            "True Label: Negative, Predicted Label: Neutral\n",
            "--------------------------------------------------\n",
            "Text: the world needs more filmmakers with passionate enthusiasms like martin scorsese . but it doesn't need gangs of new york .\n",
            "True Label: Negative, Predicted Label: Neutral\n",
            "--------------------------------------------------\n",
            "Text: enchanted with low-life tragedy and liberally seasoned with emotional outbursts . . . what is sorely missing , however , is the edge of wild , lunatic invention that we associate with cage's best acting .\n",
            "True Label: Negative, Predicted Label: Neutral\n",
            "--------------------------------------------------\n",
            "Text: rather than real figures , elling and kjell bjarne become symbolic characters whose actions are supposed to relate something about the naïf's encounter with the world .\n",
            "True Label: Negative, Predicted Label: Neutral\n",
            "--------------------------------------------------\n",
            "Text: mariah carey gives us another peek at some of the magic we saw in glitter here in wisegirls .\n",
            "True Label: Negative, Predicted Label: Neutral\n",
            "--------------------------------------------------\n",
            "Text: it's all arty and jazzy and people sit and stare and turn away from one another instead of talking and it's all about the silences and if you're into that , have at it .\n",
            "True Label: Negative, Predicted Label: Neutral\n",
            "--------------------------------------------------\n",
            "Text: spectators will indeed sit open-mouthed before the screen , not screaming but yawning .\n",
            "True Label: Negative, Predicted Label: Neutral\n",
            "--------------------------------------------------\n",
            "Text: a period story about a catholic boy who tries to help a jewish friend get into heaven by sending the audience straight to hell .\n",
            "True Label: Negative, Predicted Label: Neutral\n",
            "--------------------------------------------------\n",
            "Text: entertains not so much because of its music or comic antics , but through the perverse pleasure of watching disney scrape the bottom of its own cracker barrel .\n",
            "True Label: Negative, Predicted Label: Neutral\n",
            "--------------------------------------------------\n",
            "Text: an \" o bruin , where art thou ? \" -style cross-country adventure . . . it has sporadic bursts of liveliness , some so-so slapstick and a few ear-pleasing songs on its soundtrack .\n",
            "True Label: Negative, Predicted Label: Neutral\n",
            "--------------------------------------------------\n",
            "Text: a very familiar tale , one that's been told by countless filmmakers about italian- , chinese- , irish- , latin- , indian- , russian- and other hyphenate american young men struggling to balance conflicting cultural messages .\n",
            "True Label: Negative, Predicted Label: Neutral\n",
            "--------------------------------------------------\n",
            "Text: diaz , applegate , blair and posey are suitably kooky which should appeal to women and they strip down often enough to keep men alert , if not amused .\n",
            "True Label: Negative, Predicted Label: Neutral\n",
            "--------------------------------------------------\n",
            "Text: absolutely ( and unintentionally ) terrifying .\n",
            "True Label: Negative, Predicted Label: Neutral\n",
            "--------------------------------------------------\n",
            "Text: final verdict : you've seen it all before .\n",
            "True Label: Negative, Predicted Label: Neutral\n",
            "--------------------------------------------------\n",
            "Text: a full-frontal attack on audience patience .\n",
            "True Label: Negative, Predicted Label: Neutral\n",
            "--------------------------------------------------\n",
            "Text: the film has too many spots where it's on slippery footing , but is acceptable entertainment for the entire family and one that's especially fit for the kiddies .\n",
            "True Label: Negative, Predicted Label: Neutral\n",
            "--------------------------------------------------\n",
            "Text: skillful as he is , mr . shyamalan is undone by his pretensions .\n",
            "True Label: Negative, Predicted Label: Neutral\n",
            "--------------------------------------------------\n",
            "Text: we get the comedy we settle for .\n",
            "True Label: Negative, Predicted Label: Neutral\n",
            "--------------------------------------------------\n",
            "Text: the campy results make mel brooks' borscht belt schtick look sophisticated .\n",
            "True Label: Negative, Predicted Label: Neutral\n",
            "--------------------------------------------------\n",
            "Text: hey arnold ! is now stretched to barely feature length , with a little more attention paid to the animation . still , the updated dickensian sensibility of writer craig bartlett's story is appealing .\n",
            "True Label: Negative, Predicted Label: Neutral\n",
            "--------------------------------------------------\n",
            "Text: the film didn't move me one way or the other , but it was an honest effort and if you want to see a flick about telemarketers this one will due .\n",
            "True Label: Negative, Predicted Label: Neutral\n",
            "--------------------------------------------------\n",
            "Text: no surprises .\n",
            "True Label: Negative, Predicted Label: Neutral\n",
            "--------------------------------------------------\n",
            "Text: you have once again entered the bizarre realm where director adrian lyne holds sway , where all relationships are simultaneously broadly metaphorical , oddly abstract , and excruciatingly literal .\n",
            "True Label: Negative, Predicted Label: Neutral\n",
            "--------------------------------------------------\n",
            "Text: narc is all menace and atmosphere .\n",
            "True Label: Negative, Predicted Label: Neutral\n",
            "--------------------------------------------------\n"
          ]
        }
      ]
    },
    {
      "cell_type": "code",
      "source": [
        "# 모델 및 토크나이저 저장\n",
        "model.save_pretrained(\"./sentiment_model\")\n",
        "tokenizer.save_pretrained(\"./sentiment_model\")\n",
        "\n",
        "# 저장된 모델 로드 (재사용 예시)\n",
        "from transformers import BertForSequenceClassification, BertTokenizer\n",
        "loaded_model = BertForSequenceClassification.from_pretrained(\"./sentiment_model\")\n",
        "loaded_tokenizer = BertTokenizer.from_pretrained(\"./sentiment_model\")\n"
      ],
      "metadata": {
        "id": "GgUsSKf4NFTz"
      },
      "execution_count": null,
      "outputs": []
    },
    {
      "cell_type": "code",
      "source": [
        "# 새로운 텍스트 감정 분석 함수\n",
        "def predict_sentiment(text, model, tokenizer):\n",
        "    inputs = tokenizer(text, return_tensors=\"pt\", truncation=True, padding=True, max_length=512)\n",
        "    outputs = model(**inputs)\n",
        "    probabilities = torch.nn.functional.softmax(outputs.logits, dim=-1)\n",
        "    sentiment_labels = [\"Negative\", \"Neutral\", \"Positive\"]\n",
        "    predicted_label = sentiment_labels[probabilities.argmax()]\n",
        "    return predicted_label, probabilities.detach().numpy()\n",
        "\n",
        "# 테스트 텍스트\n",
        "text = \"Who wrote this stuff. Waste of my time. Bad actors bad story.\"\n",
        "predicted_label, probabilities = predict_sentiment(text, loaded_model, loaded_tokenizer)\n",
        "print(f\"Predicted Sentiment: {predicted_label}\")\n",
        "print(f\"Probabilities: {probabilities}\")\n"
      ],
      "metadata": {
        "colab": {
          "base_uri": "https://localhost:8080/"
        },
        "id": "UNmNtM6JNLHU",
        "outputId": "a1c6dd9f-6643-42c4-823c-e021a7017f4e"
      },
      "execution_count": null,
      "outputs": [
        {
          "output_type": "stream",
          "name": "stdout",
          "text": [
            "Predicted Sentiment: Negative\n",
            "Probabilities: [[9.9919087e-01 6.1498093e-04 1.9410075e-04]]\n"
          ]
        }
      ]
    }
  ],
  "metadata": {
    "accelerator": "GPU",
    "colab": {
      "gpuType": "T4",
      "provenance": []
    },
    "kernelspec": {
      "display_name": "Python 3",
      "name": "python3"
    },
    "language_info": {
      "name": "python"
    }
  },
  "nbformat": 4,
  "nbformat_minor": 0
}